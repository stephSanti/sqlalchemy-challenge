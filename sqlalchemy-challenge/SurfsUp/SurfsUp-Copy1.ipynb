{
 "cells": [
  {
   "cell_type": "code",
   "execution_count": 25,
   "id": "2d3c2089",
   "metadata": {},
   "outputs": [
    {
     "name": "stderr",
     "output_type": "stream",
     "text": [
      "C:\\Users\\Madelyn Zelaya\\AppData\\Local\\Temp\\ipykernel_33980\\3092611168.py:19: SADeprecationWarning: The AutomapBase.prepare.reflect parameter is deprecated and will be removed in a future release.  Reflection is enabled when AutomapBase.prepare.autoload_with is passed.\n",
      "  Base.prepare(engine, reflect=True)\n"
     ]
    }
   ],
   "source": [
    "from sqlalchemy import create_engine\n",
    "from sqlalchemy.orm import Session\n",
    "from sqlalchemy.ext.automap import automap_base\n",
    "from sqlalchemy import func\n",
    "from sqlalchemy import and_\n",
    "from flask import Flask, jsonify\n",
    "from datetime import datetime, timedelta\n",
    "import pandas as pd\n",
    "import numpy as np\n",
    "import matplotlib.pyplot as plt\n",
    "\n",
    "#create engine\n",
    "engine = create_engine('sqlite:///C:\\\\Users\\\\Madelyn Zelaya\\\\Desktop\\\\Module10\\\\Starter_Code\\\\Resources\\\\hawaii.sqlite')\n",
    "\n",
    "# Base using `automap_base()`\n",
    "Base = automap_base()\n",
    "\n",
    "# Use the Base class to reflect the database tables\n",
    "Base.prepare(engine, reflect=True)\n",
    "\n",
    "# Print all of the classes mapped to the Base\n",
    "#print(Base.classes.keys())\n",
    "\n",
    "# Save references to each table\n",
    "Measurement = Base.classes.measurement\n",
    "Station = Base.classes.station\n",
    "\n",
    "# Create a session\n",
    "session = Session(engine)"
   ]
  },
  {
   "cell_type": "markdown",
   "id": "6fc8d6f2",
   "metadata": {},
   "source": [
    "Precipitation Analysis"
   ]
  },
  {
   "cell_type": "code",
   "execution_count": null,
   "id": "b06b3726",
   "metadata": {
    "scrolled": true
   },
   "outputs": [],
   "source": [
    "#Find the most recent date in the dataset\n",
    "\n",
    "latest_date = session.query(Measurement.date).order_by(Measurement.date.desc()).first()\n",
    "\n",
    "# Convert to  datetime \n",
    "latest_date = datetime.strptime(latest_date[0], '%Y-%m-%d')\n",
    "\n",
    "# date one year from the latest date\n",
    "year_ago = latest_date - timedelta(days=365)\n",
    "\n",
    "print(f\"The most recent date in the dataset is: {latest_date.strftime('%Y-%m-%d')}\")\n"
   ]
  },
  {
   "cell_type": "code",
   "execution_count": null,
   "id": "9f374f6a",
   "metadata": {},
   "outputs": [],
   "source": [
    "#the previous 12 months of precipitation data by querying the previous 12 months of data\n",
    "\n",
    "\n",
    "sel = [Measurement.date, Measurement.prcp]\n",
    "query_result = session.query(*sel).filter(and_(Measurement.date >= year_ago, Measurement.date <= latest_date)).all()\n",
    "\n",
    "# Save as a Pandas DataFrame\n",
    "df = pd.DataFrame(query_result, columns=['date', 'precipitation'])\n",
    "df.set_index('date', inplace=True)\n",
    "\n",
    "# Sort  dataframe by date\n",
    "df = df.sort_values(\"date\")\n",
    "\n",
    "df.plot(rot=90)\n",
    "plt.show()"
   ]
  },
  {
   "cell_type": "markdown",
   "id": "3ec2a8e5",
   "metadata": {},
   "source": [
    "Station Analysis"
   ]
  },
  {
   "cell_type": "code",
   "execution_count": null,
   "id": "59293d70",
   "metadata": {},
   "outputs": [],
   "source": [
    "# calculate the total number of stations\n",
    "total_stations = session.query(func.count(Station.station)).scalar()\n",
    "\n",
    "print(f\"The total number of stations in the dataset is: {total_stations}\")"
   ]
  },
  {
   "cell_type": "code",
   "execution_count": null,
   "id": "444aaeb2",
   "metadata": {},
   "outputs": [],
   "source": [
    "active_stations = session.query(Measurement.station, func.count(Measurement.station)).\\\n",
    "    group_by(Measurement.station).\\\n",
    "    order_by(func.count(Measurement.station).desc()).\\\n",
    "    all()\n",
    "\n",
    "# Print in descending order\n",
    "for station, count in active_stations:\n",
    "    print(f\"Station: {station}, Observations: {count}\")\n",
    "\n",
    "#  station with the greatest number of observations\n",
    "most_active_station = active_stations[0][0]\n",
    "\n",
    "print(f\"\\nThe station with the greatest number of observations is: {most_active_station}\")"
   ]
  },
  {
   "cell_type": "code",
   "execution_count": null,
   "id": "65bda823",
   "metadata": {},
   "outputs": [],
   "source": [
    "# Query previous 12 months of TOBS data for active station\n",
    "tobs_data = session.query(Measurement.tobs).\\\n",
    "    filter(and_(Measurement.station == most_active_station, Measurement.date >= year_ago, Measurement.date <= latest_date)).\\\n",
    "    all()\n",
    "\n",
    "# Save as DataFrame\n",
    "df = pd.DataFrame(tobs_data, columns=['tobs'])\n",
    "\n",
    "# histogram with bins=12\n",
    "df.plot.hist(bins=12)\n",
    "plt.show()"
   ]
  },
  {
   "cell_type": "code",
   "execution_count": null,
   "id": "87a48c2d",
   "metadata": {},
   "outputs": [],
   "source": [
    "session.close()"
   ]
  },
  {
   "cell_type": "code",
   "execution_count": null,
   "id": "5a589a0c",
   "metadata": {},
   "outputs": [],
   "source": []
  },
  {
   "cell_type": "code",
   "execution_count": 27,
   "id": "595b4d64",
   "metadata": {},
   "outputs": [
    {
     "name": "stdout",
     "output_type": "stream",
     "text": [
      " * Serving Flask app '__main__'\n",
      " * Debug mode: off\n"
     ]
    },
    {
     "name": "stderr",
     "output_type": "stream",
     "text": [
      "WARNING: This is a development server. Do not use it in a production deployment. Use a production WSGI server instead.\n",
      " * Running on http://127.0.0.1:5000\n",
      "Press CTRL+C to quit\n",
      "127.0.0.1 - - [28/Nov/2023 20:24:32] \"GET / HTTP/1.1\" 200 -\n"
     ]
    }
   ],
   "source": [
    "app = Flask(__name__)\n",
    "\n",
    "@app.route(\"/\")\n",
    "def home():\n",
    "    \"\"\"List all available api routes.\"\"\"\n",
    "    return (\n",
    "        f\"Available Routes:<br/>\"\n",
    "        f\"/api/v1.0/precipitation<br/>\"\n",
    "        f\"/api/v1.0/stations<br/>\"\n",
    "        f\"/api/v1.0/tobs<br/>\"\n",
    "        f\"/api/v1.0/<start><br/>\"\n",
    "        f\"/api/v1.0/<start>/<end>\"\n",
    "    )\n",
    "\n",
    "@app.route(\"/api/v1.0/precipitation\")\n",
    "def precipitation():\n",
    "    # Create our session (link) from Python to the DB\n",
    "    session = Session(engine)\n",
    "    \"\"\"Return a list of all precipation queries\"\"\"\n",
    "    # Query\n",
    "    results = session.query(Measurement.prcp).all()\n",
    "\n",
    "    session.close()\n",
    "\n",
    "\n",
    "    # Convert list of tuples into normal list\n",
    "    precip_data = list(np.ravel(results))\n",
    "\n",
    "    \n",
    "\n",
    "#     Return the JSON representation of your dictionary.\n",
    "    return jsonify(precip_data)\n",
    "\n",
    "@app.route(\"/api/v1.0/stations\")\n",
    "def stations():\n",
    "    active_stations = session.query(Measurement.station, func.count(Measurement.station)).\\\n",
    "    group_by(Measurement.station).\\\n",
    "    order_by(func.count(Measurement.station).desc()).\\\n",
    "    all()\n",
    "    \n",
    "    return jsonify()\n",
    "\n",
    "app.run()"
   ]
  },
  {
   "cell_type": "code",
   "execution_count": null,
   "id": "bec769bf",
   "metadata": {},
   "outputs": [],
   "source": []
  },
  {
   "cell_type": "code",
   "execution_count": null,
   "id": "eca8eda0",
   "metadata": {},
   "outputs": [],
   "source": []
  },
  {
   "cell_type": "code",
   "execution_count": null,
   "id": "1ec196d3",
   "metadata": {},
   "outputs": [],
   "source": []
  },
  {
   "cell_type": "code",
   "execution_count": null,
   "id": "82067e0e",
   "metadata": {},
   "outputs": [],
   "source": []
  },
  {
   "cell_type": "code",
   "execution_count": null,
   "id": "adbb71ec",
   "metadata": {},
   "outputs": [],
   "source": []
  },
  {
   "cell_type": "code",
   "execution_count": null,
   "id": "a68ccb58",
   "metadata": {},
   "outputs": [],
   "source": []
  }
 ],
 "metadata": {
  "kernelspec": {
   "display_name": "Python 3 (ipykernel)",
   "language": "python",
   "name": "python3"
  },
  "language_info": {
   "codemirror_mode": {
    "name": "ipython",
    "version": 3
   },
   "file_extension": ".py",
   "mimetype": "text/x-python",
   "name": "python",
   "nbconvert_exporter": "python",
   "pygments_lexer": "ipython3",
   "version": "3.11.5"
  }
 },
 "nbformat": 4,
 "nbformat_minor": 5
}
